{
 "cells": [
  {
   "cell_type": "code",
   "execution_count": 1,
   "id": "b9ec67d1",
   "metadata": {},
   "outputs": [],
   "source": [
    "import numpy as np\n",
    "import pandas as pd\n",
    "from matplotlib import pyplot as plt \n",
    "import seaborn as sns\n",
    "%matplotlib inline"
   ]
  },
  {
   "cell_type": "code",
   "execution_count": 2,
   "id": "435068dd",
   "metadata": {},
   "outputs": [
    {
     "data": {
      "text/html": [
       "<div>\n",
       "<style scoped>\n",
       "    .dataframe tbody tr th:only-of-type {\n",
       "        vertical-align: middle;\n",
       "    }\n",
       "\n",
       "    .dataframe tbody tr th {\n",
       "        vertical-align: top;\n",
       "    }\n",
       "\n",
       "    .dataframe thead th {\n",
       "        text-align: right;\n",
       "    }\n",
       "</style>\n",
       "<table border=\"1\" class=\"dataframe\">\n",
       "  <thead>\n",
       "    <tr style=\"text-align: right;\">\n",
       "      <th></th>\n",
       "      <th>sepal length</th>\n",
       "      <th>sepal width</th>\n",
       "      <th>petal length</th>\n",
       "      <th>petal width</th>\n",
       "      <th>target</th>\n",
       "    </tr>\n",
       "  </thead>\n",
       "  <tbody>\n",
       "    <tr>\n",
       "      <th>0</th>\n",
       "      <td>5.1</td>\n",
       "      <td>3.5</td>\n",
       "      <td>1.4</td>\n",
       "      <td>0.2</td>\n",
       "      <td>Iris-setosa</td>\n",
       "    </tr>\n",
       "    <tr>\n",
       "      <th>1</th>\n",
       "      <td>4.9</td>\n",
       "      <td>3.0</td>\n",
       "      <td>1.4</td>\n",
       "      <td>0.2</td>\n",
       "      <td>Iris-setosa</td>\n",
       "    </tr>\n",
       "    <tr>\n",
       "      <th>2</th>\n",
       "      <td>4.7</td>\n",
       "      <td>3.2</td>\n",
       "      <td>1.3</td>\n",
       "      <td>0.2</td>\n",
       "      <td>Iris-setosa</td>\n",
       "    </tr>\n",
       "    <tr>\n",
       "      <th>3</th>\n",
       "      <td>4.6</td>\n",
       "      <td>3.1</td>\n",
       "      <td>1.5</td>\n",
       "      <td>0.2</td>\n",
       "      <td>Iris-setosa</td>\n",
       "    </tr>\n",
       "    <tr>\n",
       "      <th>4</th>\n",
       "      <td>5.0</td>\n",
       "      <td>3.6</td>\n",
       "      <td>1.4</td>\n",
       "      <td>0.2</td>\n",
       "      <td>Iris-setosa</td>\n",
       "    </tr>\n",
       "  </tbody>\n",
       "</table>\n",
       "</div>"
      ],
      "text/plain": [
       "   sepal length  sepal width  petal length  petal width       target\n",
       "0           5.1          3.5           1.4          0.2  Iris-setosa\n",
       "1           4.9          3.0           1.4          0.2  Iris-setosa\n",
       "2           4.7          3.2           1.3          0.2  Iris-setosa\n",
       "3           4.6          3.1           1.5          0.2  Iris-setosa\n",
       "4           5.0          3.6           1.4          0.2  Iris-setosa"
      ]
     },
     "execution_count": 2,
     "metadata": {},
     "output_type": "execute_result"
    }
   ],
   "source": [
    "data = pd.read_csv('iris.csv')\n",
    "data.head()"
   ]
  },
  {
   "cell_type": "code",
   "execution_count": 3,
   "id": "a0d84b9f",
   "metadata": {},
   "outputs": [],
   "source": [
    "X = data.drop('target', axis=1)"
   ]
  },
  {
   "cell_type": "code",
   "execution_count": 4,
   "id": "9cda88f0",
   "metadata": {},
   "outputs": [],
   "source": [
    "# PCA calculations\n",
    "\n",
    "n_components = 2\n",
    "\n",
    "# Centering data\n",
    "X_meaned = X.sub(X.mean(axis=0), axis=1)\n",
    "\n",
    "# Calculate covariance matrix    \n",
    "cov_mat = np.cov(X_meaned, rowvar=False)\n",
    "\n",
    "# Calculate eigenvalues and eigenvectors\n",
    "eigen_values, eigen_vectors = np.linalg.eigh(cov_mat)\n",
    "\n",
    "# Sort eigenvalues and associated eigenvectors\n",
    "idx = np.argsort(eigen_values)[::-1]\n",
    "sorted_eigenvalue = eigen_values[idx]\n",
    "sorted_eigenvectors = eigen_vectors[:, idx]\n",
    "\n",
    "# Keep n components\n",
    "eigenvector_subset = sorted_eigenvectors[:, 0:n_components]\n",
    "\n",
    "# Reduce dimensions to n components \n",
    "X_reduced = np.dot(eigenvector_subset.transpose(), X_meaned.transpose()).transpose()"
   ]
  },
  {
   "cell_type": "code",
   "execution_count": 5,
   "id": "d0bde32c",
   "metadata": {},
   "outputs": [
    {
     "data": {
      "image/png": "[encoded data removed]",
      "text/plain": [
       "<Figure size 720x432 with 1 Axes>"
      ]
     },
     "metadata": {
      "needs_background": "light"
     },
     "output_type": "display_data"
    }
   ],
   "source": [
    "total_variance = sorted_eigenvalue / sorted_eigenvalue.sum() * 100\n",
    "\n",
    "PC = [f'PC{i}' for i in range(1, len(total_variance) + 1)]\n",
    "\n",
    "plt.figure(figsize=(10, 6))\n",
    "sns.barplot(x=PC, y=total_variance)\n",
    "\n",
    "for i in range(len(total_variance)):\n",
    "    pct = str(round(total_variance[i], 2)) + ' %'\n",
    "    plt.text(i, total_variance[i], pct, ha='center', va='bottom')\n",
    " \n",
    "plt.ylim([0, 105]) \n",
    "plt.ylabel('Percentage of Explained Variance', fontsize=15)\n",
    "plt.xlabel('Principal Component', fontsize=15)\n",
    "plt.title('Scree Plot', fontsize=20)\n",
    "   \n",
    "plt.show()"
   ]
  },
  {
   "cell_type": "code",
   "execution_count": 6,
   "id": "49fd30a8",
   "metadata": {},
   "outputs": [
    {
     "data": {
      "text/html": [
       "<div>\n",
       "<style scoped>\n",
       "    .dataframe tbody tr th:only-of-type {\n",
       "        vertical-align: middle;\n",
       "    }\n",
       "\n",
       "    .dataframe tbody tr th {\n",
       "        vertical-align: top;\n",
       "    }\n",
       "\n",
       "    .dataframe thead th {\n",
       "        text-align: right;\n",
       "    }\n",
       "</style>\n",
       "<table border=\"1\" class=\"dataframe\">\n",
       "  <thead>\n",
       "    <tr style=\"text-align: right;\">\n",
       "      <th></th>\n",
       "      <th>PC1</th>\n",
       "      <th>PC2</th>\n",
       "      <th>target</th>\n",
       "    </tr>\n",
       "  </thead>\n",
       "  <tbody>\n",
       "    <tr>\n",
       "      <th>0</th>\n",
       "      <td>2.684207</td>\n",
       "      <td>0.326607</td>\n",
       "      <td>Iris-setosa</td>\n",
       "    </tr>\n",
       "    <tr>\n",
       "      <th>1</th>\n",
       "      <td>2.715391</td>\n",
       "      <td>-0.169557</td>\n",
       "      <td>Iris-setosa</td>\n",
       "    </tr>\n",
       "    <tr>\n",
       "      <th>2</th>\n",
       "      <td>2.889820</td>\n",
       "      <td>-0.137346</td>\n",
       "      <td>Iris-setosa</td>\n",
       "    </tr>\n",
       "    <tr>\n",
       "      <th>3</th>\n",
       "      <td>2.746437</td>\n",
       "      <td>-0.311124</td>\n",
       "      <td>Iris-setosa</td>\n",
       "    </tr>\n",
       "    <tr>\n",
       "      <th>4</th>\n",
       "      <td>2.728593</td>\n",
       "      <td>0.333925</td>\n",
       "      <td>Iris-setosa</td>\n",
       "    </tr>\n",
       "    <tr>\n",
       "      <th>...</th>\n",
       "      <td>...</td>\n",
       "      <td>...</td>\n",
       "      <td>...</td>\n",
       "    </tr>\n",
       "    <tr>\n",
       "      <th>145</th>\n",
       "      <td>-1.944017</td>\n",
       "      <td>0.187415</td>\n",
       "      <td>Iris-virginica</td>\n",
       "    </tr>\n",
       "    <tr>\n",
       "      <th>146</th>\n",
       "      <td>-1.525664</td>\n",
       "      <td>-0.375021</td>\n",
       "      <td>Iris-virginica</td>\n",
       "    </tr>\n",
       "    <tr>\n",
       "      <th>147</th>\n",
       "      <td>-1.764046</td>\n",
       "      <td>0.078519</td>\n",
       "      <td>Iris-virginica</td>\n",
       "    </tr>\n",
       "    <tr>\n",
       "      <th>148</th>\n",
       "      <td>-1.901629</td>\n",
       "      <td>0.115877</td>\n",
       "      <td>Iris-virginica</td>\n",
       "    </tr>\n",
       "    <tr>\n",
       "      <th>149</th>\n",
       "      <td>-1.389666</td>\n",
       "      <td>-0.282887</td>\n",
       "      <td>Iris-virginica</td>\n",
       "    </tr>\n",
       "  </tbody>\n",
       "</table>\n",
       "<p>150 rows × 3 columns</p>\n",
       "</div>"
      ],
      "text/plain": [
       "          PC1       PC2          target\n",
       "0    2.684207  0.326607     Iris-setosa\n",
       "1    2.715391 -0.169557     Iris-setosa\n",
       "2    2.889820 -0.137346     Iris-setosa\n",
       "3    2.746437 -0.311124     Iris-setosa\n",
       "4    2.728593  0.333925     Iris-setosa\n",
       "..        ...       ...             ...\n",
       "145 -1.944017  0.187415  Iris-virginica\n",
       "146 -1.525664 -0.375021  Iris-virginica\n",
       "147 -1.764046  0.078519  Iris-virginica\n",
       "148 -1.901629  0.115877  Iris-virginica\n",
       "149 -1.389666 -0.282887  Iris-virginica\n",
       "\n",
       "[150 rows x 3 columns]"
      ]
     },
     "execution_count": 6,
     "metadata": {},
     "output_type": "execute_result"
    }
   ],
   "source": [
    "PC = [f'PC{i}' for i in range(1, n_components + 1)]\n",
    "PCA_data = pd.DataFrame(X_reduced, columns=PC)\n",
    "PCA_data_com = pd.concat([PCA_data, data['target']], axis=1)\n",
    "PCA_data_com"
   ]
  },
  {
   "cell_type": "code",
   "execution_count": 7,
   "id": "1de9b1a8",
   "metadata": {},
   "outputs": [
    {
     "data": {
      "image/png": "[encoded data removed]",
      "text/plain": [
       "<Figure size 432x432 with 1 Axes>"
      ]
     },
     "metadata": {
      "needs_background": "light"
     },
     "output_type": "display_data"
    }
   ],
   "source": [
    "plt.figure(figsize = (6,6))\n",
    "sns.scatterplot(data=PCA_data_com, x='PC1', y='PC2', hue='target', s=60, palette='icefire')\n",
    "plt.show()"
   ]
  }
 ],
 "metadata": {
  "kernelspec": {
   "display_name": "Python 3 (ipykernel)",
   "language": "python",
   "name": "python3"
  },
  "language_info": {
   "codemirror_mode": {
    "name": "ipython",
    "version": 3
   },
   "file_extension": ".py",
   "mimetype": "text/x-python",
   "name": "python",
   "nbconvert_exporter": "python",
   "pygments_lexer": "ipython3",
   "version": "3.7.3"
  }
 },
 "nbformat": 4,
 "nbformat_minor": 5
}
